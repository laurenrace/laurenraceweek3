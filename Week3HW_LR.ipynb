{
 "cells": [
  {
   "cell_type": "markdown",
   "metadata": {},
   "source": [
    "## A House of Dust\n",
    "\n",
    "Original written in Fortran in 1967 by Alison Knowles and James Tenney. [ELMCIP entry](https://elmcip.net/creative-work/house-dust). [More information](http://blog.calarts.edu/2009/09/10/alison-knowles-james-tenney-and-the-house-of-dust-at-calarts/). [Watch Alison Knowles read from this piece](https://www.youtube.com/watch?v=-68Z708lFsY)."
   ]
  },
  {
   "cell_type": "code",
   "execution_count": 7,
   "metadata": {
    "collapsed": true
   },
   "outputs": [],
   "source": [
    "import random"
   ]
  },
  {
   "cell_type": "code",
   "execution_count": 8,
   "metadata": {
    "collapsed": true
   },
   "outputs": [],
   "source": [
    "materials = [\n",
    "    'mashed potatoes',\n",
    "    'meatloaf',\n",
    "    'microwave wild rice',\n",
    "    'frozen carrots',\n",
    "    'chicken nuggets',\n",
    "    'fried chicken',\n",
    "    'spaghetti and clams',\n",
    "    'mac and cheese',\n",
    "    'green beans',\n",
    "    'steamed broccoli',\n",
    "    'roast beef',\n",
    "    'turkey tetrazzini',\n",
    "    'chicken noodle soup',\n",
    "    'Ortega tacos',\n",
    "    'cheese steaks',\n",
    "    'turkey chili',\n",
    "    'tuna casserole'\n",
    "]"
   ]
  },
  {
   "cell_type": "code",
   "execution_count": 9,
   "metadata": {
    "collapsed": true
   },
   "outputs": [],
   "source": [
    "locations = [\n",
    "    'in my kitchen',\n",
    "    'at 1201 Karen Lane',\n",
    "    'in Philly',\n",
    "    'in the suburbs',\n",
    "    'in the 19087 area code',\n",
    "    'in my room, punished',\n",
    "    'out on the deck',\n",
    "    'in Rehoboth Beach',\n",
    "    'in Radnor',\n",
    "    'in PA',\n",
    "    'in the Main Line',\n",
    "    '20 minutes outside Philly',\n",
    "    'near the King of Prussia mall',\n",
    "    '15 minutes from Nancy',\n",
    "    'across from my mom',\n",
    "    'sitting next to my sister',\n",
    "    'in a 2 story Colonial',\n",
    "    'on the East Coast',\n",
    "    'in the tri-state area',\n",
    "    'Next door to Jay Fanelli',\n",
    "    'inside a mountain',\n",
    "    'at the kitchen table',\n",
    "    'in front of unfinished broccoli',\n",
    "    'before bedtime'\n",
    "]"
   ]
  },
  {
   "cell_type": "code",
   "execution_count": 10,
   "metadata": {
    "collapsed": true
   },
   "outputs": [],
   "source": [
    "lights = [\n",
    "    'kitchen chandelier',\n",
    "    'bad lighting',\n",
    "    'fluorescent overhead lighting',\n",
    "    'light from the window behind me'\n",
    "]"
   ]
  },
  {
   "cell_type": "code",
   "execution_count": 11,
   "metadata": {
    "collapsed": true
   },
   "outputs": [],
   "source": [
    "inhabitants = [\n",
    "    'me, Sarah, Julia, my dad, and my mom',\n",
    "    'me, alone at the table',\n",
    "    'me and my dad making tacos',\n",
    "    'me and Sarah after school',\n",
    "    'me and Julia giving each other the slient treatment',\n",
    "    'me and my best friend',\n",
    "    'my mom alone',\n",
    "    'my dad and mom not speaking',\n",
    "    'just me',\n",
    "    'me and my dad',\n",
    "    'me and my sisters',\n",
    "    'me and all of my homework',\n",
    "    'my two sisters',\n",
    "    'only my dad',\n",
    "    'me and a good book',\n",
    "    'my oldest sister',\n",
    "    'my youngest sister',\n",
    "    'my babysitter Carrie',\n",
    "    'my neighbor Jay',\n",
    "    'me and an empty house on a sick day'\n",
    "]"
   ]
  },
  {
   "cell_type": "code",
   "execution_count": 12,
   "metadata": {},
   "outputs": [
    {
     "name": "stdout",
     "output_type": "stream",
     "text": [
      "\n",
      "A house of paper\n",
      "     in a green, mossy terrain\n",
      "          using natural light\n",
      "                inhabited by lovers\n",
      "\n",
      "A house of sand\n",
      "     in southern france\n",
      "          using all available lighting\n",
      "                inhabited by people who sleep very little\n",
      "\n",
      "A house of wood\n",
      "     in a cold, windy climate\n",
      "          using all available lighting\n",
      "                inhabited by very tall people\n",
      "\n",
      "A house of straw\n",
      "     by an abandoned lake\n",
      "          using natural light\n",
      "                inhabited by people from many walks of life\n",
      "\n",
      "A house of discarded clothing\n",
      "     in an overpopulated area\n",
      "          using all available lighting\n",
      "                inhabited by people who sleep almost all the time\n",
      "\n",
      "A house of brick\n",
      "     in a deserted factory\n",
      "          using natural light\n",
      "                inhabited by various birds and fish\n",
      "\n",
      "A house of leaves\n",
      "     by an abandoned lake\n",
      "          using natural light\n",
      "                inhabited by children and old people\n"
     ]
    }
   ],
   "source": [
    "stanza_count = 7\n",
    "for i in range(stanza_count):\n",
    "    print()\n",
    "    print(\"A house of \" + random.choice(materials))\n",
    "    print(\"     \" + random.choice(locations))\n",
    "    print(\"          using \" + random.choice(lights))\n",
    "    print(\"                inhabited by \" + random.choice(inhabitants))"
   ]
  }
 ],
 "metadata": {
  "kernelspec": {
   "display_name": "Python 3",
   "language": "python",
   "name": "python3"
  },
  "language_info": {
   "codemirror_mode": {
    "name": "ipython",
    "version": 3
   },
   "file_extension": ".py",
   "mimetype": "text/x-python",
   "name": "python",
   "nbconvert_exporter": "python",
   "pygments_lexer": "ipython3",
   "version": "3.6.3"
  }
 },
 "nbformat": 4,
 "nbformat_minor": 2
}
